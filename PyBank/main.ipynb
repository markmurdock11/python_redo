{
 "metadata": {
  "language_info": {
   "codemirror_mode": {
    "name": "ipython",
    "version": 3
   },
   "file_extension": ".py",
   "mimetype": "text/x-python",
   "name": "python",
   "nbconvert_exporter": "python",
   "pygments_lexer": "ipython3",
   "version": "3.8.3-final"
  },
  "orig_nbformat": 2,
  "kernelspec": {
   "name": "python_defaultSpec_1602878578313",
   "display_name": "Python 3.8.3 64-bit ('base': conda)"
  }
 },
 "nbformat": 4,
 "nbformat_minor": 2,
 "cells": [
  {
   "cell_type": "code",
   "execution_count": 38,
   "metadata": {
    "tags": []
   },
   "outputs": [
    {
     "output_type": "stream",
     "name": "stdout",
     "text": "38382578\n"
    }
   ],
   "source": [
    "# importing data\n",
    "\n",
    "from pathlib import Path\n",
    "import csv\n",
    "\n",
    "csvpath = Path(\"Resources/budget_data.csv\")\n",
    "\n",
    "# navigating to the correct csv file \n",
    "\n",
    "with open(csvpath) as csvfile:\n",
    "    \n",
    "    csvreader = csv.reader(csvfile, delimiter= ',')\n",
    "    csvheader = next(csvreader)\n",
    "\n",
    "    # lists i'm going to need\n",
    "    month = []\n",
    "    rev = []\n",
    "    rev_change = []\n",
    "    monthly_change = []\n",
    "    \n",
    "    \n",
    "    for row in csvreader:\n",
    "        \n",
    "    # solving for amount of months\n",
    "\n",
    "        month.append(row[0])\n",
    "        \n",
    "        \n",
    "    # print(len(month))\n",
    "\n",
    "        rev.append(int(row[1]))\n",
    "\n",
    "    # print(sum(rev))\n",
    "        \n",
    "\n"
   ]
  },
  {
   "cell_type": "code",
   "execution_count": 17,
   "metadata": {},
   "outputs": [
    {
     "output_type": "execute_result",
     "data": {
      "text/plain": "671099"
     },
     "metadata": {},
     "execution_count": 17
    }
   ],
   "source": []
  },
  {
   "cell_type": "code",
   "execution_count": null,
   "metadata": {},
   "outputs": [],
   "source": []
  }
 ]
}