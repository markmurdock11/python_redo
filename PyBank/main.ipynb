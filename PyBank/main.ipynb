{
 "metadata": {
  "language_info": {
   "codemirror_mode": {
    "name": "ipython",
    "version": 3
   },
   "file_extension": ".py",
   "mimetype": "text/x-python",
   "name": "python",
   "nbconvert_exporter": "python",
   "pygments_lexer": "ipython3",
   "version": "3.8.3-final"
  },
  "orig_nbformat": 2,
  "kernelspec": {
   "name": "python_defaultSpec_1602878578313",
   "display_name": "Python 3.8.3 64-bit ('base': conda)"
  }
 },
 "nbformat": 4,
 "nbformat_minor": 2,
 "cells": [
  {
   "cell_type": "code",
   "execution_count": 82,
   "metadata": {
    "tags": []
   },
   "outputs": [
    {
     "output_type": "stream",
     "name": "stdout",
     "text": "Financial Analysis\n-------------------\nTotal Months: 86\nTotal: 38382578\nAverage Change : -2315.12\nGreatest Increase in Profits: Feb-2012 1926159\nGreatest Decrease in Profits: Sep-2013 -2196167\n"
    }
   ],
   "source": [
    "# importing data\n",
    "\n",
    "from pathlib import Path\n",
    "import csv\n",
    "\n",
    "csvpath = Path(\"Resources/budget_data.csv\")\n",
    "\n",
    "# navigating to the correct csv file \n",
    "\n",
    "with open(csvpath) as csvfile:\n",
    "    \n",
    "    csvreader = csv.reader(csvfile, delimiter= ',')\n",
    "    csvheader = next(csvreader)\n",
    "\n",
    "    # lists i'm going to need\n",
    "    month = []\n",
    "    rev = []\n",
    "    rev_change = []\n",
    "    monthly_change = []\n",
    "    \n",
    "    \n",
    "    for row in csvreader:\n",
    "        \n",
    "    # solving for amount of months\n",
    "\n",
    "        month.append(row[0])\n",
    "        \n",
    "        \n",
    "    ##print(len(month))\n",
    "\n",
    "    # solving for total sum\n",
    "\n",
    "        rev.append(int(row[1]))\n",
    "\n",
    "    ## print(sum(rev))\n",
    "        \n",
    "    # solving for average change\n",
    "    num = 0\n",
    "    for num in range(len(rev)-1):\n",
    "        \n",
    "        change = int(rev[num + 1]) - int(rev[num])\n",
    "        \n",
    "        rev_change.append(change)\n",
    "\n",
    "    total_change = sum(rev_change)\n",
    "    \n",
    "    average_change = round(total_change/len(rev_change),2)\n",
    "    ## print(average_change)\n",
    "    \n",
    "    # solving for greatest increase\n",
    "\n",
    "\n",
    "    increase = max(rev_change)\n",
    "    # print(increase)\n",
    "\n",
    "    month_index = rev_change.index(increase)\n",
    "    which_month_increase = month[month_index+1]\n",
    "    # print(which_month_increase)\n",
    "\n",
    "    # solving for biggest decrease\n",
    "\n",
    "    decrease = min(rev_change)\n",
    "\n",
    "    month_index2 = rev_change.index(decrease)\n",
    "    which_month_increase2 = month[month_index2+1]\n",
    "\n",
    "\n",
    "    # for exporting \n",
    "\n",
    "\n",
    "\n",
    "\n",
    "print(\"Financial Analysis\")\n",
    "print(\"-------------------\")\n",
    "print(\"Total Months: \" + str(len(month)))\n",
    "print(\"Total: \" + str(sum(rev)))\n",
    "print(\"Average Change : \" + str(average_change))\n",
    "print(\"Greatest Increase in Profits: \" + str(which_month_increase), str(increase))\n",
    "print(\"Greatest Decrease in Profits: \" + str(which_month_increase2), str(decrease))\n",
    "\n",
    "\n",
    "\n",
    "\n"
   ]
  },
  {
   "cell_type": "code",
   "execution_count": 93,
   "metadata": {},
   "outputs": [
    {
     "output_type": "execute_result",
     "data": {
      "text/plain": "('Sep-2013', '-2196167')"
     },
     "metadata": {},
     "execution_count": 93
    }
   ],
   "source": [
    "# getting variables cleaned up for export\n",
    "\n",
    "all_months = len(month)\n",
    "all_profits = sum(rev)\n",
    "average_change\n",
    "great_inc = str(which_month_increase), str(increase)\n",
    "great_dec = str(which_month_increase2), str(decrease)\n"
   ]
  },
  {
   "cell_type": "code",
   "execution_count": 95,
   "metadata": {},
   "outputs": [],
   "source": [
    "\n",
    "#exporting file\n",
    "\n",
    "\n",
    "#exporting file\n",
    "\n",
    "export_file = Path(\"export_hw.txt\")\n",
    "\n",
    "with open(export_file, 'w') as textfile:\n",
    "    textfile.write(\"Financial Analysis\")\n",
    "    textfile.write(\"\\n\")\n",
    "    textfile.write(\"------------------\")\n",
    "    textfile.write(\"\\n\")\n",
    "    textfile.write(f\"Total Months: {all_months}\")\n",
    "    textfile.write(\"\\n\")\n",
    "    textfile.write(f\"Total Salaries: {all_profits}\")\n",
    "    textfile.write(\"\\n\")\n",
    "    textfile.write(f\"Average Change: {average_change}\")\n",
    "    textfile.write(\"\\n\")\n",
    "    textfile.write(f\"Greatest Increase in Profits: {great_inc}\")\n",
    "    textfile.write(\"\\n\")\n",
    "    textfile.write(f\"Greatest Decrease in Profits: {great_dec}\")"
   ]
  },
  {
   "cell_type": "code",
   "execution_count": null,
   "metadata": {},
   "outputs": [],
   "source": []
  },
  {
   "cell_type": "code",
   "execution_count": null,
   "metadata": {},
   "outputs": [],
   "source": []
  }
 ]
}