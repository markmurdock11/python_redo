{
 "metadata": {
  "language_info": {
   "codemirror_mode": {
    "name": "ipython",
    "version": 3
   },
   "file_extension": ".py",
   "mimetype": "text/x-python",
   "name": "python",
   "nbconvert_exporter": "python",
   "pygments_lexer": "ipython3",
   "version": "3.8.3-final"
  },
  "orig_nbformat": 2,
  "kernelspec": {
   "name": "python_defaultSpec_1602878578313",
   "display_name": "Python 3.8.3 64-bit ('base': conda)"
  }
 },
 "nbformat": 4,
 "nbformat_minor": 2,
 "cells": [
  {
   "cell_type": "code",
   "execution_count": 61,
   "metadata": {
    "tags": []
   },
   "outputs": [
    {
     "output_type": "stream",
     "name": "stdout",
     "text": "1926159\nFeb-2012\n"
    }
   ],
   "source": [
    "# importing data\n",
    "\n",
    "from pathlib import Path\n",
    "import csv\n",
    "\n",
    "csvpath = Path(\"Resources/budget_data.csv\")\n",
    "\n",
    "# navigating to the correct csv file \n",
    "\n",
    "with open(csvpath) as csvfile:\n",
    "    \n",
    "    csvreader = csv.reader(csvfile, delimiter= ',')\n",
    "    csvheader = next(csvreader)\n",
    "\n",
    "    # lists i'm going to need\n",
    "    month = []\n",
    "    rev = []\n",
    "    rev_change = []\n",
    "    monthly_change = []\n",
    "    \n",
    "    \n",
    "    for row in csvreader:\n",
    "        \n",
    "    # solving for amount of months\n",
    "\n",
    "        month.append(row[0])\n",
    "        \n",
    "        \n",
    "    ##print(len(month))\n",
    "\n",
    "    # solving for total sum\n",
    "\n",
    "        rev.append(int(row[1]))\n",
    "\n",
    "    ## print(sum(rev))\n",
    "        \n",
    "    # solving for average change\n",
    "    num = 0\n",
    "    for num in range(len(rev)-1):\n",
    "        \n",
    "        change = int(rev[num + 1]) - int(rev[num])\n",
    "        \n",
    "        rev_change.append(change)\n",
    "\n",
    "    total_change = sum(rev_change)\n",
    "    \n",
    "    average_change = round(total_change/len(rev_change),2)\n",
    "    ## print(average_change)\n",
    "    \n",
    "    # solving for greatest increase\n",
    "\n",
    "\n",
    "    increase = max(rev_change)\n",
    "    # print(increase)\n",
    "\n",
    "    month_index = rev_change.index(increase)\n",
    "    which_month_increase = month[month_index+1]\n",
    "    # print(which_month_increase)\n",
    "\n",
    "    # solving for biggest decrease\n",
    "\n",
    "    decrease = min(rev_change)\n",
    "\n",
    "    month_index2 = rev_change.index(decrease)\n",
    "    which_month_increase2 = month[month_index2+1]\n",
    "\n",
    "\n",
    "print(\"Financial Analysis\")\n",
    "\n"
   ]
  },
  {
   "cell_type": "code",
   "execution_count": 17,
   "metadata": {},
   "outputs": [
    {
     "output_type": "execute_result",
     "data": {
      "text/plain": "671099"
     },
     "metadata": {},
     "execution_count": 17
    }
   ],
   "source": []
  },
  {
   "cell_type": "code",
   "execution_count": null,
   "metadata": {},
   "outputs": [],
   "source": []
  }
 ]
}